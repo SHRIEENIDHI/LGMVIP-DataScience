{
 "cells": [
  {
   "cell_type": "markdown",
   "id": "f9be9a1e",
   "metadata": {},
   "source": [
    "# LetsGrowMore Data Science Internship\n",
    "<font color=black></font><p><p>\n",
    "# Beginner Level - TASK 4\n",
    "<font color=black></font><p>\n",
    "# _Image to Pencil Sketch with Python:_\n",
    "<font color=black></font><p>\n",
    "### BY SHRIEENIDHI A M\n",
    "<font color=black></font><p>"
   ]
  },
  {
   "cell_type": "markdown",
   "id": "ccd6fea7",
   "metadata": {},
   "source": [
    "### _Importing Libraries_"
   ]
  },
  {
   "cell_type": "code",
   "execution_count": 8,
   "id": "c46b1fc7",
   "metadata": {},
   "outputs": [],
   "source": [
    "import cv2\n",
    "import matplotlib.pyplot as plt"
   ]
  },
  {
   "cell_type": "markdown",
   "id": "56490ae6",
   "metadata": {},
   "source": [
    "### _Read the image in RBG format_"
   ]
  },
  {
   "cell_type": "code",
   "execution_count": 22,
   "id": "f470046f",
   "metadata": {},
   "outputs": [
    {
     "data": {
      "text/plain": [
       "-1"
      ]
     },
     "execution_count": 22,
     "metadata": {},
     "output_type": "execute_result"
    }
   ],
   "source": [
    "image = cv2.imread(\"D:\\INTERN\\INTERN-PLANE.jpg\")\n",
    "cv2.imshow(\"Original image of the Plane\", image)\n",
    "cv2.waitKey(0)"
   ]
  },
  {
   "cell_type": "markdown",
   "id": "6ff7de21",
   "metadata": {},
   "source": [
    "### _Converting the image to GrayScale Image_"
   ]
  },
  {
   "cell_type": "code",
   "execution_count": 10,
   "id": "eb9b5257",
   "metadata": {},
   "outputs": [
    {
     "data": {
      "text/plain": [
       "-1"
      ]
     },
     "execution_count": 10,
     "metadata": {},
     "output_type": "execute_result"
    }
   ],
   "source": [
    "Grayscale_image = cv2.cvtColor(image, cv2.COLOR_BGR2GRAY)\n",
    "cv2.imshow(\"New Plane\", Grayscale_image)\n",
    "cv2.waitKey()"
   ]
  },
  {
   "cell_type": "markdown",
   "id": "95f215d2",
   "metadata": {},
   "source": [
    "### _Inversion of the Grayscale image_"
   ]
  },
  {
   "cell_type": "code",
   "execution_count": 11,
   "id": "38d21e86",
   "metadata": {},
   "outputs": [
    {
     "data": {
      "text/plain": [
       "-1"
      ]
     },
     "execution_count": 11,
     "metadata": {},
     "output_type": "execute_result"
    }
   ],
   "source": [
    "Inverted_image = 255 - Grayscale_image\n",
    "cv2.imshow(\"Inverted GreyScale Plane\", Inverted_image)\n",
    "cv2.waitKey()"
   ]
  },
  {
   "cell_type": "markdown",
   "id": "5f062ccc",
   "metadata": {},
   "source": [
    "### _Blurring the Inverted Grayscale_"
   ]
  },
  {
   "cell_type": "code",
   "execution_count": 12,
   "id": "bef91e39",
   "metadata": {},
   "outputs": [
    {
     "data": {
      "text/plain": [
       "-1"
      ]
     },
     "execution_count": 12,
     "metadata": {},
     "output_type": "execute_result"
    }
   ],
   "source": [
    "blurred = cv2.GaussianBlur(Inverted_image, (51, 51), 0)\n",
    "cv2.imshow(\"Blur InvertedGreyscale\",blurred)\n",
    "cv2.waitKey(0)"
   ]
  },
  {
   "cell_type": "markdown",
   "id": "e0e6dee8",
   "metadata": {},
   "source": [
    "### _Inverting the blurred Inverted Grayscale_"
   ]
  },
  {
   "cell_type": "code",
   "execution_count": 13,
   "id": "0ee19157",
   "metadata": {},
   "outputs": [
    {
     "data": {
      "text/plain": [
       "-1"
      ]
     },
     "execution_count": 13,
     "metadata": {},
     "output_type": "execute_result"
    }
   ],
   "source": [
    "Inverted_blurred = 255 - blurred\n",
    "cv2.imshow(\"Inverting the Blur Inverted Greyscale\", Inverted_image)\n",
    "cv2.waitKey(0)"
   ]
  },
  {
   "cell_type": "markdown",
   "id": "e48287e9",
   "metadata": {},
   "source": [
    "### _Create the pencil sketch by mixing the grayscale image with the inverted blurry image._\n",
    "##This can be done by dividing the grayscale image by the inverted blurry image. "
   ]
  },
  {
   "cell_type": "code",
   "execution_count": 14,
   "id": "5a09cefd",
   "metadata": {},
   "outputs": [
    {
     "data": {
      "text/plain": [
       "-1"
      ]
     },
     "execution_count": 14,
     "metadata": {},
     "output_type": "execute_result"
    }
   ],
   "source": [
    "pencil_sketch = cv2.divide(Grayscale_image, Inverted_blurred, scale=256)\n",
    "cv2.imshow(\"Sketch\", pencil_sketch)\n",
    "cv2.waitKey(0)"
   ]
  },
  {
   "cell_type": "markdown",
   "id": "01e404d0",
   "metadata": {},
   "source": [
    "### _Displaying both the original image and the pencil sketch_"
   ]
  },
  {
   "cell_type": "code",
   "execution_count": 15,
   "id": "4191e05f",
   "metadata": {},
   "outputs": [
    {
     "data": {
      "text/plain": [
       "-1"
      ]
     },
     "execution_count": 15,
     "metadata": {},
     "output_type": "execute_result"
    }
   ],
   "source": [
    "cv2.imshow(\"Original Image\", image)\n",
    "cv2.imshow(\"pencil sketch\", pencil_sketch)\n",
    "cv2.waitKey(0)"
   ]
  },
  {
   "cell_type": "markdown",
   "id": "a404c03e",
   "metadata": {},
   "source": [
    "### THANK YOU"
   ]
  }
 ],
 "metadata": {
  "kernelspec": {
   "display_name": "Python 3 (ipykernel)",
   "language": "python",
   "name": "python3"
  },
  "language_info": {
   "codemirror_mode": {
    "name": "ipython",
    "version": 3
   },
   "file_extension": ".py",
   "mimetype": "text/x-python",
   "name": "python",
   "nbconvert_exporter": "python",
   "pygments_lexer": "ipython3",
   "version": "3.8.8"
  }
 },
 "nbformat": 4,
 "nbformat_minor": 5
}
